{
 "cells": [
  {
   "cell_type": "markdown",
   "metadata": {},
   "source": [
    "# Data loading and preparation"
   ]
  },
  {
   "cell_type": "markdown",
   "metadata": {},
   "source": [
    "### Loading required python libraries"
   ]
  },
  {
   "cell_type": "code",
   "execution_count": 1,
   "metadata": {},
   "outputs": [],
   "source": [
    "import pandas as pd"
   ]
  },
  {
   "cell_type": "code",
   "execution_count": 2,
   "metadata": {},
   "outputs": [
    {
     "data": {
      "text/html": [
       "<div>\n",
       "<style scoped>\n",
       "    .dataframe tbody tr th:only-of-type {\n",
       "        vertical-align: middle;\n",
       "    }\n",
       "\n",
       "    .dataframe tbody tr th {\n",
       "        vertical-align: top;\n",
       "    }\n",
       "\n",
       "    .dataframe thead th {\n",
       "        text-align: right;\n",
       "    }\n",
       "</style>\n",
       "<table border=\"1\" class=\"dataframe\">\n",
       "  <thead>\n",
       "    <tr style=\"text-align: right;\">\n",
       "      <th></th>\n",
       "      <th>0</th>\n",
       "    </tr>\n",
       "  </thead>\n",
       "  <tbody>\n",
       "    <tr>\n",
       "      <th>0</th>\n",
       "      <td>put the cone on the red square on the square</td>\n",
       "    </tr>\n",
       "    <tr>\n",
       "      <th>1</th>\n",
       "      <td>take the cone on the square</td>\n",
       "    </tr>\n",
       "    <tr>\n",
       "      <th>2</th>\n",
       "      <td>take the block</td>\n",
       "    </tr>\n",
       "    <tr>\n",
       "      <th>3</th>\n",
       "      <td>put the red cone on the square</td>\n",
       "    </tr>\n",
       "    <tr>\n",
       "      <th>4</th>\n",
       "      <td>put the block on the blue square on the square</td>\n",
       "    </tr>\n",
       "  </tbody>\n",
       "</table>\n",
       "</div>"
      ],
      "text/plain": [
       "                                                0\n",
       "0    put the cone on the red square on the square\n",
       "1                     take the cone on the square\n",
       "2                                  take the block\n",
       "3                  put the red cone on the square\n",
       "4  put the block on the blue square on the square"
      ]
     },
     "execution_count": 2,
     "metadata": {},
     "output_type": "execute_result"
    }
   ],
   "source": [
    "# Loading and checking the training dataset\n",
    "df_train = pd.read_csv('./../data/training_data.txt', header=None)\n",
    "df_train.head()"
   ]
  },
  {
   "cell_type": "code",
   "execution_count": 3,
   "metadata": {},
   "outputs": [
    {
     "data": {
      "text/html": [
       "<div>\n",
       "<style scoped>\n",
       "    .dataframe tbody tr th:only-of-type {\n",
       "        vertical-align: middle;\n",
       "    }\n",
       "\n",
       "    .dataframe tbody tr th {\n",
       "        vertical-align: top;\n",
       "    }\n",
       "\n",
       "    .dataframe thead th {\n",
       "        text-align: right;\n",
       "    }\n",
       "</style>\n",
       "<table border=\"1\" class=\"dataframe\">\n",
       "  <thead>\n",
       "    <tr style=\"text-align: right;\">\n",
       "      <th></th>\n",
       "      <th>0</th>\n",
       "    </tr>\n",
       "  </thead>\n",
       "  <tbody>\n",
       "    <tr>\n",
       "      <th>0</th>\n",
       "      <td>take the block on the green circle\\t\\t\\t</td>\n",
       "    </tr>\n",
       "    <tr>\n",
       "      <th>1</th>\n",
       "      <td>put the block on the circle on the red circle\\t\\t</td>\n",
       "    </tr>\n",
       "    <tr>\n",
       "      <th>2</th>\n",
       "      <td>put the green cone on the square\\t\\t\\t</td>\n",
       "    </tr>\n",
       "    <tr>\n",
       "      <th>3</th>\n",
       "      <td>take the red cone\\t\\t\\t\\t\\t</td>\n",
       "    </tr>\n",
       "    <tr>\n",
       "      <th>4</th>\n",
       "      <td>put the green block on the square\\t\\t\\t</td>\n",
       "    </tr>\n",
       "  </tbody>\n",
       "</table>\n",
       "</div>"
      ],
      "text/plain": [
       "                                                   0\n",
       "0           take the block on the green circle\\t\\t\\t\n",
       "1  put the block on the circle on the red circle\\t\\t\n",
       "2             put the green cone on the square\\t\\t\\t\n",
       "3                        take the red cone\\t\\t\\t\\t\\t\n",
       "4            put the green block on the square\\t\\t\\t"
      ]
     },
     "execution_count": 3,
     "metadata": {},
     "output_type": "execute_result"
    }
   ],
   "source": [
    "# Loading and checking the test dataset\n",
    "df_test = pd.read_csv('./../data/test_data_v0.txt', header=None)\n",
    "df_test.head()"
   ]
  },
  {
   "cell_type": "code",
   "execution_count": 4,
   "metadata": {},
   "outputs": [
    {
     "data": {
      "text/plain": [
       "0               take the block on the green circle\n",
       "1    put the block on the circle on the red circle\n",
       "2                 put the green cone on the square\n",
       "3                                take the red cone\n",
       "4                put the green block on the square\n",
       "Name: 0, dtype: object"
      ]
     },
     "execution_count": 4,
     "metadata": {},
     "output_type": "execute_result"
    }
   ],
   "source": [
    "# Remove the unnecessary trailing tabs in test dataset \n",
    "test = df_test[0].map(str.strip)\n",
    "\n",
    "test.head()"
   ]
  },
  {
   "cell_type": "code",
   "execution_count": 5,
   "metadata": {},
   "outputs": [
    {
     "data": {
      "text/plain": [
       "0      put the cone on the red square on the square\n",
       "1                       take the cone on the square\n",
       "2                                    take the block\n",
       "3                    put the red cone on the square\n",
       "4    put the block on the blue square on the square\n",
       "Name: 0, dtype: object"
      ]
     },
     "execution_count": 5,
     "metadata": {},
     "output_type": "execute_result"
    }
   ],
   "source": [
    "# Convert the train dataset to a pandas series\n",
    "train = df_train[0]\n",
    "\n",
    "train.head()"
   ]
  },
  {
   "cell_type": "code",
   "execution_count": 6,
   "metadata": {},
   "outputs": [],
   "source": [
    "# Spliting the training dataset into response and predictors\n",
    "y_train = train.map(lambda x: x.split()[0])\n",
    "x_train = train.map(lambda x: ' '.join(x.split()[1:]))"
   ]
  },
  {
   "cell_type": "code",
   "execution_count": 7,
   "metadata": {},
   "outputs": [],
   "source": [
    "# Spliting the test dataset into response and predictors\n",
    "y_test = test.map(lambda x: x.split()[0])\n",
    "x_test = test.map(lambda x: ' '.join(x.split()[1:]))"
   ]
  },
  {
   "cell_type": "markdown",
   "metadata": {},
   "source": [
    "## Q1 Analysis"
   ]
  },
  {
   "cell_type": "markdown",
   "metadata": {},
   "source": [
    "### Loading Required python libraries"
   ]
  },
  {
   "cell_type": "code",
   "execution_count": 8,
   "metadata": {},
   "outputs": [],
   "source": [
    "import nltk\n",
    "from nltk.corpus import stopwords\n",
    "from nltk.tokenize import word_tokenize\n",
    "from nltk.stem import WordNetLemmatizer\n",
    "import numpy as np"
   ]
  },
  {
   "cell_type": "code",
   "execution_count": 9,
   "metadata": {},
   "outputs": [],
   "source": [
    "# Run this if nltk is not configured before\n",
    "# =========================================\n",
    "# nltk.download()"
   ]
  },
  {
   "cell_type": "code",
   "execution_count": 10,
   "metadata": {},
   "outputs": [],
   "source": [
    "# Define stop words\n",
    "stop_words = set(stopwords.words('english'))"
   ]
  },
  {
   "cell_type": "code",
   "execution_count": 11,
   "metadata": {},
   "outputs": [],
   "source": [
    "def removeStopWords(x):\n",
    "    \"\"\"Return only words that are not in stop_words\"\"\"\n",
    "    return [w for w in x if not w in stop_words]"
   ]
  },
  {
   "cell_type": "code",
   "execution_count": 12,
   "metadata": {},
   "outputs": [],
   "source": [
    "def getLemma(x):\n",
    "    \"\"\"Return the lemma of each word\"\"\"\n",
    "    return [WordNetLemmatizer().lemmatize(w) for w in x]"
   ]
  },
  {
   "cell_type": "code",
   "execution_count": 13,
   "metadata": {},
   "outputs": [],
   "source": [
    "# Tokenize each sentence in the training set, remove stop-words and take the lemma\n",
    "x = x_train.map(word_tokenize).map(removeStopWords).map(getLemma)"
   ]
  },
  {
   "cell_type": "markdown",
   "metadata": {},
   "source": [
    "### Calculate Word Counts"
   ]
  },
  {
   "cell_type": "code",
   "execution_count": 14,
   "metadata": {},
   "outputs": [
    {
     "data": {
      "text/html": [
       "<div>\n",
       "<style scoped>\n",
       "    .dataframe tbody tr th:only-of-type {\n",
       "        vertical-align: middle;\n",
       "    }\n",
       "\n",
       "    .dataframe tbody tr th {\n",
       "        vertical-align: top;\n",
       "    }\n",
       "\n",
       "    .dataframe thead th {\n",
       "        text-align: right;\n",
       "    }\n",
       "</style>\n",
       "<table border=\"1\" class=\"dataframe\">\n",
       "  <thead>\n",
       "    <tr style=\"text-align: right;\">\n",
       "      <th></th>\n",
       "      <th>block</th>\n",
       "      <th>blue</th>\n",
       "      <th>circle</th>\n",
       "      <th>cone</th>\n",
       "      <th>cube</th>\n",
       "      <th>green</th>\n",
       "      <th>red</th>\n",
       "      <th>square</th>\n",
       "    </tr>\n",
       "    <tr>\n",
       "      <th>0</th>\n",
       "      <th></th>\n",
       "      <th></th>\n",
       "      <th></th>\n",
       "      <th></th>\n",
       "      <th></th>\n",
       "      <th></th>\n",
       "      <th></th>\n",
       "      <th></th>\n",
       "    </tr>\n",
       "  </thead>\n",
       "  <tbody>\n",
       "    <tr>\n",
       "      <th>put</th>\n",
       "      <td>26</td>\n",
       "      <td>23</td>\n",
       "      <td>45</td>\n",
       "      <td>23</td>\n",
       "      <td>16</td>\n",
       "      <td>10</td>\n",
       "      <td>47</td>\n",
       "      <td>47</td>\n",
       "    </tr>\n",
       "    <tr>\n",
       "      <th>take</th>\n",
       "      <td>21</td>\n",
       "      <td>5</td>\n",
       "      <td>6</td>\n",
       "      <td>6</td>\n",
       "      <td>8</td>\n",
       "      <td>7</td>\n",
       "      <td>11</td>\n",
       "      <td>4</td>\n",
       "    </tr>\n",
       "  </tbody>\n",
       "</table>\n",
       "</div>"
      ],
      "text/plain": [
       "      block  blue  circle  cone  cube  green  red  square\n",
       "0                                                        \n",
       "put      26    23      45    23    16     10   47      47\n",
       "take     21     5       6     6     8      7   11       4"
      ]
     },
     "execution_count": 14,
     "metadata": {},
     "output_type": "execute_result"
    }
   ],
   "source": [
    "# Get Unigram Word Counts\n",
    "unigram_wcounts = x.groupby(y_train).apply(lambda x: [w for rec in x for w in rec]).map(nltk.FreqDist)\n",
    "unigram_wcounts = pd.DataFrame(list(unigram_wcounts), index=unigram_wcounts.index)\n",
    "unigram_wcounts"
   ]
  },
  {
   "cell_type": "code",
   "execution_count": 15,
   "metadata": {},
   "outputs": [
    {
     "data": {
      "text/html": [
       "<div>\n",
       "<style scoped>\n",
       "    .dataframe tbody tr th:only-of-type {\n",
       "        vertical-align: middle;\n",
       "    }\n",
       "\n",
       "    .dataframe tbody tr th {\n",
       "        vertical-align: top;\n",
       "    }\n",
       "\n",
       "    .dataframe thead th {\n",
       "        text-align: right;\n",
       "    }\n",
       "</style>\n",
       "<table border=\"1\" class=\"dataframe\">\n",
       "  <thead>\n",
       "    <tr style=\"text-align: right;\">\n",
       "      <th></th>\n",
       "      <th>(block, blue)</th>\n",
       "      <th>(block, circle)</th>\n",
       "      <th>(block, green)</th>\n",
       "      <th>(block, red)</th>\n",
       "      <th>(block, square)</th>\n",
       "      <th>(blue, block)</th>\n",
       "      <th>(blue, circle)</th>\n",
       "      <th>(blue, cone)</th>\n",
       "      <th>(blue, cube)</th>\n",
       "      <th>(blue, square)</th>\n",
       "      <th>...</th>\n",
       "      <th>(green, square)</th>\n",
       "      <th>(red, block)</th>\n",
       "      <th>(red, circle)</th>\n",
       "      <th>(red, cone)</th>\n",
       "      <th>(red, cube)</th>\n",
       "      <th>(red, square)</th>\n",
       "      <th>(square, blue)</th>\n",
       "      <th>(square, circle)</th>\n",
       "      <th>(square, red)</th>\n",
       "      <th>(square, square)</th>\n",
       "    </tr>\n",
       "    <tr>\n",
       "      <th>0</th>\n",
       "      <th></th>\n",
       "      <th></th>\n",
       "      <th></th>\n",
       "      <th></th>\n",
       "      <th></th>\n",
       "      <th></th>\n",
       "      <th></th>\n",
       "      <th></th>\n",
       "      <th></th>\n",
       "      <th></th>\n",
       "      <th></th>\n",
       "      <th></th>\n",
       "      <th></th>\n",
       "      <th></th>\n",
       "      <th></th>\n",
       "      <th></th>\n",
       "      <th></th>\n",
       "      <th></th>\n",
       "      <th></th>\n",
       "      <th></th>\n",
       "      <th></th>\n",
       "    </tr>\n",
       "  </thead>\n",
       "  <tbody>\n",
       "    <tr>\n",
       "      <th>put</th>\n",
       "      <td>6</td>\n",
       "      <td>5</td>\n",
       "      <td>3.0</td>\n",
       "      <td>9</td>\n",
       "      <td>3</td>\n",
       "      <td>4</td>\n",
       "      <td>5.0</td>\n",
       "      <td>6</td>\n",
       "      <td>3</td>\n",
       "      <td>5</td>\n",
       "      <td>...</td>\n",
       "      <td>2.0</td>\n",
       "      <td>6</td>\n",
       "      <td>16</td>\n",
       "      <td>6</td>\n",
       "      <td>2</td>\n",
       "      <td>17.0</td>\n",
       "      <td>1.0</td>\n",
       "      <td>3.0</td>\n",
       "      <td>4.0</td>\n",
       "      <td>4.0</td>\n",
       "    </tr>\n",
       "    <tr>\n",
       "      <th>take</th>\n",
       "      <td>1</td>\n",
       "      <td>1</td>\n",
       "      <td>NaN</td>\n",
       "      <td>1</td>\n",
       "      <td>1</td>\n",
       "      <td>2</td>\n",
       "      <td>NaN</td>\n",
       "      <td>1</td>\n",
       "      <td>1</td>\n",
       "      <td>1</td>\n",
       "      <td>...</td>\n",
       "      <td>NaN</td>\n",
       "      <td>6</td>\n",
       "      <td>3</td>\n",
       "      <td>1</td>\n",
       "      <td>1</td>\n",
       "      <td>NaN</td>\n",
       "      <td>NaN</td>\n",
       "      <td>NaN</td>\n",
       "      <td>NaN</td>\n",
       "      <td>NaN</td>\n",
       "    </tr>\n",
       "  </tbody>\n",
       "</table>\n",
       "<p>2 rows × 37 columns</p>\n",
       "</div>"
      ],
      "text/plain": [
       "      (block, blue)  (block, circle)  (block, green)  (block, red)  \\\n",
       "0                                                                    \n",
       "put               6                5             3.0             9   \n",
       "take              1                1             NaN             1   \n",
       "\n",
       "      (block, square)  (blue, block)  (blue, circle)  (blue, cone)  \\\n",
       "0                                                                    \n",
       "put                 3              4             5.0             6   \n",
       "take                1              2             NaN             1   \n",
       "\n",
       "      (blue, cube)  (blue, square)        ...         (green, square)  \\\n",
       "0                                         ...                           \n",
       "put              3               5        ...                     2.0   \n",
       "take             1               1        ...                     NaN   \n",
       "\n",
       "      (red, block)  (red, circle)  (red, cone)  (red, cube)  (red, square)  \\\n",
       "0                                                                            \n",
       "put              6             16            6            2           17.0   \n",
       "take             6              3            1            1            NaN   \n",
       "\n",
       "      (square, blue)  (square, circle)  (square, red)  (square, square)  \n",
       "0                                                                        \n",
       "put              1.0               3.0            4.0               4.0  \n",
       "take             NaN               NaN            NaN               NaN  \n",
       "\n",
       "[2 rows x 37 columns]"
      ]
     },
     "execution_count": 15,
     "metadata": {},
     "output_type": "execute_result"
    }
   ],
   "source": [
    "# Get Bigram Word Counts\n",
    "bigram_wcounts = x.groupby(y_train).apply(lambda x: [w for rec in x for w in nltk.bigrams(rec)]).map(nltk.FreqDist)\n",
    "bigram_wcounts = pd.DataFrame(list(bigram_wcounts), index=bigram_wcounts.index)\n",
    "bigram_wcounts"
   ]
  },
  {
   "cell_type": "code",
   "execution_count": 16,
   "metadata": {},
   "outputs": [
    {
     "data": {
      "text/html": [
       "<div>\n",
       "<style scoped>\n",
       "    .dataframe tbody tr th:only-of-type {\n",
       "        vertical-align: middle;\n",
       "    }\n",
       "\n",
       "    .dataframe tbody tr th {\n",
       "        vertical-align: top;\n",
       "    }\n",
       "\n",
       "    .dataframe thead th {\n",
       "        text-align: right;\n",
       "    }\n",
       "</style>\n",
       "<table border=\"1\" class=\"dataframe\">\n",
       "  <thead>\n",
       "    <tr style=\"text-align: right;\">\n",
       "      <th></th>\n",
       "      <th>(block, blue, circle)</th>\n",
       "      <th>(block, blue, square)</th>\n",
       "      <th>(block, circle, blue)</th>\n",
       "      <th>(block, circle, circle)</th>\n",
       "      <th>(block, circle, red)</th>\n",
       "      <th>(block, circle, square)</th>\n",
       "      <th>(block, green, circle)</th>\n",
       "      <th>(block, green, square)</th>\n",
       "      <th>(block, red, circle)</th>\n",
       "      <th>(block, red, square)</th>\n",
       "      <th>...</th>\n",
       "      <th>(red, cone, green)</th>\n",
       "      <th>(red, cone, square)</th>\n",
       "      <th>(red, cube, red)</th>\n",
       "      <th>(red, cube, square)</th>\n",
       "      <th>(red, square, circle)</th>\n",
       "      <th>(red, square, red)</th>\n",
       "      <th>(red, square, square)</th>\n",
       "      <th>(square, blue, circle)</th>\n",
       "      <th>(square, red, circle)</th>\n",
       "      <th>(square, red, square)</th>\n",
       "    </tr>\n",
       "    <tr>\n",
       "      <th>0</th>\n",
       "      <th></th>\n",
       "      <th></th>\n",
       "      <th></th>\n",
       "      <th></th>\n",
       "      <th></th>\n",
       "      <th></th>\n",
       "      <th></th>\n",
       "      <th></th>\n",
       "      <th></th>\n",
       "      <th></th>\n",
       "      <th></th>\n",
       "      <th></th>\n",
       "      <th></th>\n",
       "      <th></th>\n",
       "      <th></th>\n",
       "      <th></th>\n",
       "      <th></th>\n",
       "      <th></th>\n",
       "      <th></th>\n",
       "      <th></th>\n",
       "      <th></th>\n",
       "    </tr>\n",
       "  </thead>\n",
       "  <tbody>\n",
       "    <tr>\n",
       "      <th>put</th>\n",
       "      <td>2.0</td>\n",
       "      <td>4</td>\n",
       "      <td>1.0</td>\n",
       "      <td>1.0</td>\n",
       "      <td>1.0</td>\n",
       "      <td>1.0</td>\n",
       "      <td>2.0</td>\n",
       "      <td>1.0</td>\n",
       "      <td>4</td>\n",
       "      <td>5.0</td>\n",
       "      <td>...</td>\n",
       "      <td>1.0</td>\n",
       "      <td>3.0</td>\n",
       "      <td>2.0</td>\n",
       "      <td>NaN</td>\n",
       "      <td>1.0</td>\n",
       "      <td>1.0</td>\n",
       "      <td>1.0</td>\n",
       "      <td>1.0</td>\n",
       "      <td>2.0</td>\n",
       "      <td>2.0</td>\n",
       "    </tr>\n",
       "    <tr>\n",
       "      <th>take</th>\n",
       "      <td>NaN</td>\n",
       "      <td>1</td>\n",
       "      <td>NaN</td>\n",
       "      <td>NaN</td>\n",
       "      <td>NaN</td>\n",
       "      <td>NaN</td>\n",
       "      <td>NaN</td>\n",
       "      <td>NaN</td>\n",
       "      <td>1</td>\n",
       "      <td>NaN</td>\n",
       "      <td>...</td>\n",
       "      <td>NaN</td>\n",
       "      <td>NaN</td>\n",
       "      <td>NaN</td>\n",
       "      <td>1.0</td>\n",
       "      <td>NaN</td>\n",
       "      <td>NaN</td>\n",
       "      <td>NaN</td>\n",
       "      <td>NaN</td>\n",
       "      <td>NaN</td>\n",
       "      <td>NaN</td>\n",
       "    </tr>\n",
       "  </tbody>\n",
       "</table>\n",
       "<p>2 rows × 64 columns</p>\n",
       "</div>"
      ],
      "text/plain": [
       "      (block, blue, circle)  (block, blue, square)  (block, circle, blue)  \\\n",
       "0                                                                           \n",
       "put                     2.0                      4                    1.0   \n",
       "take                    NaN                      1                    NaN   \n",
       "\n",
       "      (block, circle, circle)  (block, circle, red)  (block, circle, square)  \\\n",
       "0                                                                              \n",
       "put                       1.0                   1.0                      1.0   \n",
       "take                      NaN                   NaN                      NaN   \n",
       "\n",
       "      (block, green, circle)  (block, green, square)  (block, red, circle)  \\\n",
       "0                                                                            \n",
       "put                      2.0                     1.0                     4   \n",
       "take                     NaN                     NaN                     1   \n",
       "\n",
       "      (block, red, square)          ...            (red, cone, green)  \\\n",
       "0                                   ...                                 \n",
       "put                    5.0          ...                           1.0   \n",
       "take                   NaN          ...                           NaN   \n",
       "\n",
       "      (red, cone, square)  (red, cube, red)  (red, cube, square)  \\\n",
       "0                                                                  \n",
       "put                   3.0               2.0                  NaN   \n",
       "take                  NaN               NaN                  1.0   \n",
       "\n",
       "      (red, square, circle)  (red, square, red)  (red, square, square)  \\\n",
       "0                                                                        \n",
       "put                     1.0                 1.0                    1.0   \n",
       "take                    NaN                 NaN                    NaN   \n",
       "\n",
       "      (square, blue, circle)  (square, red, circle)  (square, red, square)  \n",
       "0                                                                           \n",
       "put                      1.0                    2.0                    2.0  \n",
       "take                     NaN                    NaN                    NaN  \n",
       "\n",
       "[2 rows x 64 columns]"
      ]
     },
     "execution_count": 16,
     "metadata": {},
     "output_type": "execute_result"
    }
   ],
   "source": [
    "# Get Trigram Word Counts\n",
    "trigram_wcounts = x.groupby(y_train).apply(lambda x: [w for rec in x for w in nltk.trigrams(rec)]).map(nltk.FreqDist)\n",
    "trigram_wcounts = pd.DataFrame(list(trigram_wcounts), index=trigram_wcounts.index)\n",
    "trigram_wcounts"
   ]
  },
  {
   "cell_type": "markdown",
   "metadata": {},
   "source": [
    "### Calculate Total Word Counts"
   ]
  },
  {
   "cell_type": "code",
   "execution_count": 17,
   "metadata": {},
   "outputs": [
    {
     "data": {
      "text/plain": [
       "0\n",
       "put     237\n",
       "take     68\n",
       "dtype: int64"
      ]
     },
     "execution_count": 17,
     "metadata": {},
     "output_type": "execute_result"
    }
   ],
   "source": [
    "# Unigram total counts\n",
    "unigram_total_wcount = unigram_wcounts.sum(axis=1)\n",
    "unigram_total_wcount"
   ]
  },
  {
   "cell_type": "code",
   "execution_count": 18,
   "metadata": {},
   "outputs": [
    {
     "data": {
      "text/plain": [
       "0\n",
       "put     172.0\n",
       "take     33.0\n",
       "dtype: float64"
      ]
     },
     "execution_count": 18,
     "metadata": {},
     "output_type": "execute_result"
    }
   ],
   "source": [
    "# Bigram total counts\n",
    "bigram_total_wcount = bigram_wcounts.sum(axis=1)\n",
    "bigram_total_wcount"
   ]
  },
  {
   "cell_type": "code",
   "execution_count": 19,
   "metadata": {},
   "outputs": [
    {
     "data": {
      "text/plain": [
       "0\n",
       "put     107.0\n",
       "take      9.0\n",
       "dtype: float64"
      ]
     },
     "execution_count": 19,
     "metadata": {},
     "output_type": "execute_result"
    }
   ],
   "source": [
    "# Trigram total counts\n",
    "trigram_total_wcount = trigram_wcounts.sum(axis=1)\n",
    "trigram_total_wcount"
   ]
  },
  {
   "cell_type": "markdown",
   "metadata": {},
   "source": [
    "### Calculate Probabilities"
   ]
  },
  {
   "cell_type": "code",
   "execution_count": 23,
   "metadata": {},
   "outputs": [
    {
     "data": {
      "text/html": [
       "<div>\n",
       "<style scoped>\n",
       "    .dataframe tbody tr th:only-of-type {\n",
       "        vertical-align: middle;\n",
       "    }\n",
       "\n",
       "    .dataframe tbody tr th {\n",
       "        vertical-align: top;\n",
       "    }\n",
       "\n",
       "    .dataframe thead th {\n",
       "        text-align: right;\n",
       "    }\n",
       "</style>\n",
       "<table border=\"1\" class=\"dataframe\">\n",
       "  <thead>\n",
       "    <tr style=\"text-align: right;\">\n",
       "      <th></th>\n",
       "      <th>block</th>\n",
       "      <th>blue</th>\n",
       "      <th>circle</th>\n",
       "      <th>cone</th>\n",
       "      <th>cube</th>\n",
       "      <th>green</th>\n",
       "      <th>red</th>\n",
       "      <th>square</th>\n",
       "    </tr>\n",
       "    <tr>\n",
       "      <th>0</th>\n",
       "      <th></th>\n",
       "      <th></th>\n",
       "      <th></th>\n",
       "      <th></th>\n",
       "      <th></th>\n",
       "      <th></th>\n",
       "      <th></th>\n",
       "      <th></th>\n",
       "    </tr>\n",
       "  </thead>\n",
       "  <tbody>\n",
       "    <tr>\n",
       "      <th>put</th>\n",
       "      <td>0.109705</td>\n",
       "      <td>0.097046</td>\n",
       "      <td>0.189873</td>\n",
       "      <td>0.097046</td>\n",
       "      <td>0.067511</td>\n",
       "      <td>0.042194</td>\n",
       "      <td>0.198312</td>\n",
       "      <td>0.198312</td>\n",
       "    </tr>\n",
       "    <tr>\n",
       "      <th>take</th>\n",
       "      <td>0.308824</td>\n",
       "      <td>0.073529</td>\n",
       "      <td>0.088235</td>\n",
       "      <td>0.088235</td>\n",
       "      <td>0.117647</td>\n",
       "      <td>0.102941</td>\n",
       "      <td>0.161765</td>\n",
       "      <td>0.058824</td>\n",
       "    </tr>\n",
       "  </tbody>\n",
       "</table>\n",
       "</div>"
      ],
      "text/plain": [
       "         block      blue    circle      cone      cube     green       red  \\\n",
       "0                                                                            \n",
       "put   0.109705  0.097046  0.189873  0.097046  0.067511  0.042194  0.198312   \n",
       "take  0.308824  0.073529  0.088235  0.088235  0.117647  0.102941  0.161765   \n",
       "\n",
       "        square  \n",
       "0               \n",
       "put   0.198312  \n",
       "take  0.058824  "
      ]
     },
     "execution_count": 23,
     "metadata": {},
     "output_type": "execute_result"
    }
   ],
   "source": [
    "unigram_probs = unigram_wcounts.div(unigram_total_wcount, axis=0)\n",
    "unigram_probs"
   ]
  },
  {
   "cell_type": "code",
   "execution_count": 24,
   "metadata": {},
   "outputs": [
    {
     "data": {
      "text/html": [
       "<div>\n",
       "<style scoped>\n",
       "    .dataframe tbody tr th:only-of-type {\n",
       "        vertical-align: middle;\n",
       "    }\n",
       "\n",
       "    .dataframe tbody tr th {\n",
       "        vertical-align: top;\n",
       "    }\n",
       "\n",
       "    .dataframe thead th {\n",
       "        text-align: right;\n",
       "    }\n",
       "</style>\n",
       "<table border=\"1\" class=\"dataframe\">\n",
       "  <thead>\n",
       "    <tr style=\"text-align: right;\">\n",
       "      <th></th>\n",
       "      <th>(block, blue)</th>\n",
       "      <th>(block, circle)</th>\n",
       "      <th>(block, green)</th>\n",
       "      <th>(block, red)</th>\n",
       "      <th>(block, square)</th>\n",
       "      <th>(blue, block)</th>\n",
       "      <th>(blue, circle)</th>\n",
       "      <th>(blue, cone)</th>\n",
       "      <th>(blue, cube)</th>\n",
       "      <th>(blue, square)</th>\n",
       "      <th>...</th>\n",
       "      <th>(green, square)</th>\n",
       "      <th>(red, block)</th>\n",
       "      <th>(red, circle)</th>\n",
       "      <th>(red, cone)</th>\n",
       "      <th>(red, cube)</th>\n",
       "      <th>(red, square)</th>\n",
       "      <th>(square, blue)</th>\n",
       "      <th>(square, circle)</th>\n",
       "      <th>(square, red)</th>\n",
       "      <th>(square, square)</th>\n",
       "    </tr>\n",
       "    <tr>\n",
       "      <th>0</th>\n",
       "      <th></th>\n",
       "      <th></th>\n",
       "      <th></th>\n",
       "      <th></th>\n",
       "      <th></th>\n",
       "      <th></th>\n",
       "      <th></th>\n",
       "      <th></th>\n",
       "      <th></th>\n",
       "      <th></th>\n",
       "      <th></th>\n",
       "      <th></th>\n",
       "      <th></th>\n",
       "      <th></th>\n",
       "      <th></th>\n",
       "      <th></th>\n",
       "      <th></th>\n",
       "      <th></th>\n",
       "      <th></th>\n",
       "      <th></th>\n",
       "      <th></th>\n",
       "    </tr>\n",
       "  </thead>\n",
       "  <tbody>\n",
       "    <tr>\n",
       "      <th>put</th>\n",
       "      <td>0.034884</td>\n",
       "      <td>0.029070</td>\n",
       "      <td>0.017442</td>\n",
       "      <td>0.052326</td>\n",
       "      <td>0.017442</td>\n",
       "      <td>0.023256</td>\n",
       "      <td>0.02907</td>\n",
       "      <td>0.034884</td>\n",
       "      <td>0.017442</td>\n",
       "      <td>0.029070</td>\n",
       "      <td>...</td>\n",
       "      <td>0.011628</td>\n",
       "      <td>0.034884</td>\n",
       "      <td>0.093023</td>\n",
       "      <td>0.034884</td>\n",
       "      <td>0.011628</td>\n",
       "      <td>0.098837</td>\n",
       "      <td>0.005814</td>\n",
       "      <td>0.017442</td>\n",
       "      <td>0.023256</td>\n",
       "      <td>0.023256</td>\n",
       "    </tr>\n",
       "    <tr>\n",
       "      <th>take</th>\n",
       "      <td>0.030303</td>\n",
       "      <td>0.030303</td>\n",
       "      <td>NaN</td>\n",
       "      <td>0.030303</td>\n",
       "      <td>0.030303</td>\n",
       "      <td>0.060606</td>\n",
       "      <td>NaN</td>\n",
       "      <td>0.030303</td>\n",
       "      <td>0.030303</td>\n",
       "      <td>0.030303</td>\n",
       "      <td>...</td>\n",
       "      <td>NaN</td>\n",
       "      <td>0.181818</td>\n",
       "      <td>0.090909</td>\n",
       "      <td>0.030303</td>\n",
       "      <td>0.030303</td>\n",
       "      <td>NaN</td>\n",
       "      <td>NaN</td>\n",
       "      <td>NaN</td>\n",
       "      <td>NaN</td>\n",
       "      <td>NaN</td>\n",
       "    </tr>\n",
       "  </tbody>\n",
       "</table>\n",
       "<p>2 rows × 37 columns</p>\n",
       "</div>"
      ],
      "text/plain": [
       "      (block, blue)  (block, circle)  (block, green)  (block, red)  \\\n",
       "0                                                                    \n",
       "put        0.034884         0.029070        0.017442      0.052326   \n",
       "take       0.030303         0.030303             NaN      0.030303   \n",
       "\n",
       "      (block, square)  (blue, block)  (blue, circle)  (blue, cone)  \\\n",
       "0                                                                    \n",
       "put          0.017442       0.023256         0.02907      0.034884   \n",
       "take         0.030303       0.060606             NaN      0.030303   \n",
       "\n",
       "      (blue, cube)  (blue, square)        ...         (green, square)  \\\n",
       "0                                         ...                           \n",
       "put       0.017442        0.029070        ...                0.011628   \n",
       "take      0.030303        0.030303        ...                     NaN   \n",
       "\n",
       "      (red, block)  (red, circle)  (red, cone)  (red, cube)  (red, square)  \\\n",
       "0                                                                            \n",
       "put       0.034884       0.093023     0.034884     0.011628       0.098837   \n",
       "take      0.181818       0.090909     0.030303     0.030303            NaN   \n",
       "\n",
       "      (square, blue)  (square, circle)  (square, red)  (square, square)  \n",
       "0                                                                        \n",
       "put         0.005814          0.017442       0.023256          0.023256  \n",
       "take             NaN               NaN            NaN               NaN  \n",
       "\n",
       "[2 rows x 37 columns]"
      ]
     },
     "execution_count": 24,
     "metadata": {},
     "output_type": "execute_result"
    }
   ],
   "source": [
    "bigram_probs = bigram_wcounts.div(bigram_total_wcount, axis=0)\n",
    "bigram_probs"
   ]
  },
  {
   "cell_type": "code",
   "execution_count": 25,
   "metadata": {},
   "outputs": [
    {
     "data": {
      "text/html": [
       "<div>\n",
       "<style scoped>\n",
       "    .dataframe tbody tr th:only-of-type {\n",
       "        vertical-align: middle;\n",
       "    }\n",
       "\n",
       "    .dataframe tbody tr th {\n",
       "        vertical-align: top;\n",
       "    }\n",
       "\n",
       "    .dataframe thead th {\n",
       "        text-align: right;\n",
       "    }\n",
       "</style>\n",
       "<table border=\"1\" class=\"dataframe\">\n",
       "  <thead>\n",
       "    <tr style=\"text-align: right;\">\n",
       "      <th></th>\n",
       "      <th>(block, blue, circle)</th>\n",
       "      <th>(block, blue, square)</th>\n",
       "      <th>(block, circle, blue)</th>\n",
       "      <th>(block, circle, circle)</th>\n",
       "      <th>(block, circle, red)</th>\n",
       "      <th>(block, circle, square)</th>\n",
       "      <th>(block, green, circle)</th>\n",
       "      <th>(block, green, square)</th>\n",
       "      <th>(block, red, circle)</th>\n",
       "      <th>(block, red, square)</th>\n",
       "      <th>...</th>\n",
       "      <th>(red, cone, green)</th>\n",
       "      <th>(red, cone, square)</th>\n",
       "      <th>(red, cube, red)</th>\n",
       "      <th>(red, cube, square)</th>\n",
       "      <th>(red, square, circle)</th>\n",
       "      <th>(red, square, red)</th>\n",
       "      <th>(red, square, square)</th>\n",
       "      <th>(square, blue, circle)</th>\n",
       "      <th>(square, red, circle)</th>\n",
       "      <th>(square, red, square)</th>\n",
       "    </tr>\n",
       "    <tr>\n",
       "      <th>0</th>\n",
       "      <th></th>\n",
       "      <th></th>\n",
       "      <th></th>\n",
       "      <th></th>\n",
       "      <th></th>\n",
       "      <th></th>\n",
       "      <th></th>\n",
       "      <th></th>\n",
       "      <th></th>\n",
       "      <th></th>\n",
       "      <th></th>\n",
       "      <th></th>\n",
       "      <th></th>\n",
       "      <th></th>\n",
       "      <th></th>\n",
       "      <th></th>\n",
       "      <th></th>\n",
       "      <th></th>\n",
       "      <th></th>\n",
       "      <th></th>\n",
       "      <th></th>\n",
       "    </tr>\n",
       "  </thead>\n",
       "  <tbody>\n",
       "    <tr>\n",
       "      <th>put</th>\n",
       "      <td>0.018692</td>\n",
       "      <td>0.037383</td>\n",
       "      <td>0.009346</td>\n",
       "      <td>0.009346</td>\n",
       "      <td>0.009346</td>\n",
       "      <td>0.009346</td>\n",
       "      <td>0.018692</td>\n",
       "      <td>0.009346</td>\n",
       "      <td>0.037383</td>\n",
       "      <td>0.046729</td>\n",
       "      <td>...</td>\n",
       "      <td>0.009346</td>\n",
       "      <td>0.028037</td>\n",
       "      <td>0.018692</td>\n",
       "      <td>NaN</td>\n",
       "      <td>0.009346</td>\n",
       "      <td>0.009346</td>\n",
       "      <td>0.009346</td>\n",
       "      <td>0.009346</td>\n",
       "      <td>0.018692</td>\n",
       "      <td>0.018692</td>\n",
       "    </tr>\n",
       "    <tr>\n",
       "      <th>take</th>\n",
       "      <td>NaN</td>\n",
       "      <td>0.111111</td>\n",
       "      <td>NaN</td>\n",
       "      <td>NaN</td>\n",
       "      <td>NaN</td>\n",
       "      <td>NaN</td>\n",
       "      <td>NaN</td>\n",
       "      <td>NaN</td>\n",
       "      <td>0.111111</td>\n",
       "      <td>NaN</td>\n",
       "      <td>...</td>\n",
       "      <td>NaN</td>\n",
       "      <td>NaN</td>\n",
       "      <td>NaN</td>\n",
       "      <td>0.111111</td>\n",
       "      <td>NaN</td>\n",
       "      <td>NaN</td>\n",
       "      <td>NaN</td>\n",
       "      <td>NaN</td>\n",
       "      <td>NaN</td>\n",
       "      <td>NaN</td>\n",
       "    </tr>\n",
       "  </tbody>\n",
       "</table>\n",
       "<p>2 rows × 64 columns</p>\n",
       "</div>"
      ],
      "text/plain": [
       "      (block, blue, circle)  (block, blue, square)  (block, circle, blue)  \\\n",
       "0                                                                           \n",
       "put                0.018692               0.037383               0.009346   \n",
       "take                    NaN               0.111111                    NaN   \n",
       "\n",
       "      (block, circle, circle)  (block, circle, red)  (block, circle, square)  \\\n",
       "0                                                                              \n",
       "put                  0.009346              0.009346                 0.009346   \n",
       "take                      NaN                   NaN                      NaN   \n",
       "\n",
       "      (block, green, circle)  (block, green, square)  (block, red, circle)  \\\n",
       "0                                                                            \n",
       "put                 0.018692                0.009346              0.037383   \n",
       "take                     NaN                     NaN              0.111111   \n",
       "\n",
       "      (block, red, square)          ...            (red, cone, green)  \\\n",
       "0                                   ...                                 \n",
       "put               0.046729          ...                      0.009346   \n",
       "take                   NaN          ...                           NaN   \n",
       "\n",
       "      (red, cone, square)  (red, cube, red)  (red, cube, square)  \\\n",
       "0                                                                  \n",
       "put              0.028037          0.018692                  NaN   \n",
       "take                  NaN               NaN             0.111111   \n",
       "\n",
       "      (red, square, circle)  (red, square, red)  (red, square, square)  \\\n",
       "0                                                                        \n",
       "put                0.009346            0.009346               0.009346   \n",
       "take                    NaN                 NaN                    NaN   \n",
       "\n",
       "      (square, blue, circle)  (square, red, circle)  (square, red, square)  \n",
       "0                                                                           \n",
       "put                 0.009346               0.018692               0.018692  \n",
       "take                     NaN                    NaN                    NaN  \n",
       "\n",
       "[2 rows x 64 columns]"
      ]
     },
     "execution_count": 25,
     "metadata": {},
     "output_type": "execute_result"
    }
   ],
   "source": [
    "trigram_probs = trigram_wcounts.div(trigram_total_wcount, axis=0)\n",
    "trigram_probs"
   ]
  },
  {
   "cell_type": "markdown",
   "metadata": {},
   "source": [
    "### Predictions"
   ]
  },
  {
   "cell_type": "code",
   "execution_count": 59,
   "metadata": {},
   "outputs": [
    {
     "data": {
      "text/plain": [
       "{'pProb': 0.0970464135021097, 'tProb': 0.07352941176470588}"
      ]
     },
     "execution_count": 59,
     "metadata": {},
     "output_type": "execute_result"
    }
   ],
   "source": [
    "def getUnigramProb(word):\n",
    "    try:\n",
    "        pProb = unigram_probs.loc['put', word]\n",
    "    except:\n",
    "        pProb = 0\n",
    "    try:\n",
    "        tProb = unigram_probs.loc['take', word]\n",
    "    except:\n",
    "        tProb = 0\n",
    "        \n",
    "    return {\n",
    "        'pProb': pProb,\n",
    "        'tProb': tProb,\n",
    "    }\n",
    "getUnigramProb('blue')"
   ]
  },
  {
   "cell_type": "code",
   "execution_count": 60,
   "metadata": {},
   "outputs": [
    {
     "data": {
      "text/plain": [
       "{'pProb': 0.03488372093023256, 'tProb': 0.030303030303030304}"
      ]
     },
     "execution_count": 60,
     "metadata": {},
     "output_type": "execute_result"
    }
   ],
   "source": [
    "def getBigramProb(word):\n",
    "    try:\n",
    "        pProb = bigram_probs[word]['put']\n",
    "    except:\n",
    "        pProb = 0\n",
    "    try:\n",
    "        tProb = bigram_probs[word]['take']\n",
    "    except:\n",
    "        tProb = 0\n",
    "        \n",
    "    return {\n",
    "        'pProb': pProb,\n",
    "        'tProb': tProb,\n",
    "    }\n",
    "getBigramProb(('block', 'blue'))"
   ]
  },
  {
   "cell_type": "code",
   "execution_count": 61,
   "metadata": {},
   "outputs": [
    {
     "data": {
      "text/plain": [
       "{'pProb': 0.009345794392523364, 'tProb': nan}"
      ]
     },
     "execution_count": 61,
     "metadata": {},
     "output_type": "execute_result"
    }
   ],
   "source": [
    "def getTrigramProb(word):\n",
    "    try:\n",
    "        pProb = trigram_probs[word]['put']\n",
    "    except:\n",
    "        pProb = 0\n",
    "    try:\n",
    "        tProb = trigram_probs[word]['take']\n",
    "    except:\n",
    "        tProb = 0\n",
    "        \n",
    "    return {\n",
    "        'pProb': pProb,\n",
    "        'tProb': tProb,\n",
    "    }\n",
    "getTrigramProb(('block', 'circle', 'circle'))"
   ]
  },
  {
   "cell_type": "code",
   "execution_count": 62,
   "metadata": {},
   "outputs": [
    {
     "data": {
      "text/plain": [
       "0                      [block, green, circle]\n",
       "1                [block, circle, red, circle]\n",
       "2                       [green, cone, square]\n",
       "3                                 [red, cone]\n",
       "4                      [green, block, square]\n",
       "5                   [blue, cone, red, circle]\n",
       "6                         [cube, red, circle]\n",
       "7    [blue, cone, red, circle, green, circle]\n",
       "8                      [block, green, circle]\n",
       "9                       [blue, block, circle]\n",
       "Name: 0, dtype: object"
      ]
     },
     "execution_count": 62,
     "metadata": {},
     "output_type": "execute_result"
    }
   ],
   "source": [
    "# Prepare the test set\n",
    "x2 = x_test.map(word_tokenize).map(removeStopWords).map(getLemma)\n",
    "x2"
   ]
  },
  {
   "cell_type": "code",
   "execution_count": 70,
   "metadata": {},
   "outputs": [],
   "source": [
    "def predict(sent, predType='uni'):\n",
    "    pProb = 0\n",
    "    tProb = 0\n",
    "    \n",
    "    for w in sent:\n",
    "        if predType == 'uni':\n",
    "            p = getUnigramProb(w)\n",
    "        elif predType == 'bi':\n",
    "            p = getBigramProb(w)\n",
    "        else:\n",
    "            p = getTrigramProb(w)\n",
    "        pProb += p['pProb']\n",
    "        tProb += p['tProb']\n",
    "    \n",
    "    res = 'put' if pProb > tProb else 'take'\n",
    "    \n",
    "    return {\n",
    "        'prediction': res,\n",
    "        'pProb': pProb,\n",
    "        'tProb': tProb\n",
    "    }"
   ]
  },
  {
   "cell_type": "code",
   "execution_count": 82,
   "metadata": {},
   "outputs": [
    {
     "data": {
      "text/plain": [
       "0    {'tProb': 0.5, 'pProb': 0.3417721518987342, 'p...\n",
       "1    {'tProb': 0.6470588235294118, 'pProb': 0.68776...\n",
       "2    {'tProb': 0.25, 'pProb': 0.33755274261603374, ...\n",
       "3    {'tProb': 0.25, 'pProb': 0.29535864978902954, ...\n",
       "4    {'tProb': 0.47058823529411764, 'pProb': 0.3502...\n",
       "5    {'tProb': 0.411764705882353, 'pProb': 0.582278...\n",
       "6    {'tProb': 0.36764705882352944, 'pProb': 0.4556...\n",
       "7    {'tProb': 0.6029411764705883, 'pProb': 0.81434...\n",
       "8    {'tProb': 0.5, 'pProb': 0.3417721518987342, 'p...\n",
       "9    {'tProb': 0.4705882352941177, 'pProb': 0.39662...\n",
       "Name: 0, dtype: object"
      ]
     },
     "execution_count": 82,
     "metadata": {},
     "output_type": "execute_result"
    }
   ],
   "source": [
    "unigram_prediction = x2.map(predict)\n",
    "unigram_prediction"
   ]
  },
  {
   "cell_type": "code",
   "execution_count": 76,
   "metadata": {},
   "outputs": [
    {
     "data": {
      "text/plain": [
       "0                    [(block, green), (green, circle)]\n",
       "1      [(block, circle), (circle, red), (red, circle)]\n",
       "2                      [(green, cone), (cone, square)]\n",
       "3                                        [(red, cone)]\n",
       "4                    [(green, block), (block, square)]\n",
       "5           [(blue, cone), (cone, red), (red, circle)]\n",
       "6                         [(cube, red), (red, circle)]\n",
       "7    [(blue, cone), (cone, red), (red, circle), (ci...\n",
       "8                    [(block, green), (green, circle)]\n",
       "9                     [(blue, block), (block, circle)]\n",
       "Name: 0, dtype: object"
      ]
     },
     "execution_count": 76,
     "metadata": {},
     "output_type": "execute_result"
    }
   ],
   "source": [
    "x2_bigram = x2.map(lambda x: list(nltk.bigrams(x)))\n",
    "x2_bigram"
   ]
  },
  {
   "cell_type": "code",
   "execution_count": 85,
   "metadata": {},
   "outputs": [
    {
     "data": {
      "text/plain": [
       "0    {'tProb': nan, 'pProb': 0.040697674418604654, ...\n",
       "1    {'tProb': nan, 'pProb': 0.1511627906976744, 'p...\n",
       "2    {'tProb': nan, 'pProb': 0.05232558139534884, '...\n",
       "3    {'tProb': 0.030303030303030304, 'pProb': 0.034...\n",
       "4    {'tProb': 0.18181818181818182, 'pProb': 0.0290...\n",
       "5    {'tProb': nan, 'pProb': 0.1744186046511628, 'p...\n",
       "6    {'tProb': 0.15151515151515152, 'pProb': 0.1337...\n",
       "7    {'tProb': nan, 'pProb': 0.19767441860465118, '...\n",
       "8    {'tProb': nan, 'pProb': 0.040697674418604654, ...\n",
       "9    {'tProb': 0.09090909090909091, 'pProb': 0.0523...\n",
       "Name: 0, dtype: object"
      ]
     },
     "execution_count": 85,
     "metadata": {},
     "output_type": "execute_result"
    }
   ],
   "source": [
    "bigram_prediction = x2_bigram.map(lambda x: predict(x, 'bi'))\n",
    "bigram_prediction"
   ]
  },
  {
   "cell_type": "code",
   "execution_count": 84,
   "metadata": {},
   "outputs": [
    {
     "data": {
      "text/plain": [
       "0    {'tProb': nan, 'pProb': 0.018691588785046728, ...\n",
       "1    {'tProb': nan, 'pProb': 0.037383177570093455, ...\n",
       "2       {'tProb': 0, 'pProb': 0, 'prediction': 'take'}\n",
       "3       {'tProb': 0, 'pProb': 0, 'prediction': 'take'}\n",
       "4       {'tProb': 0, 'pProb': 0, 'prediction': 'take'}\n",
       "5    {'tProb': nan, 'pProb': 0.06542056074766354, '...\n",
       "6    {'tProb': 0.2222222222222222, 'pProb': 0.02803...\n",
       "7    {'tProb': nan, 'pProb': 0.06542056074766354, '...\n",
       "8    {'tProb': nan, 'pProb': 0.018691588785046728, ...\n",
       "9       {'tProb': 0, 'pProb': 0, 'prediction': 'take'}\n",
       "Name: 0, dtype: object"
      ]
     },
     "execution_count": 84,
     "metadata": {},
     "output_type": "execute_result"
    }
   ],
   "source": [
    "trigram_prediction = x2_trigram.map(lambda x: predict(x, 'tri'))\n",
    "trigram_prediction"
   ]
  },
  {
   "cell_type": "markdown",
   "metadata": {},
   "source": [
    "### Analysis of the results"
   ]
  },
  {
   "cell_type": "markdown",
   "metadata": {},
   "source": [
    "#### Unigram"
   ]
  },
  {
   "cell_type": "code",
   "execution_count": 88,
   "metadata": {},
   "outputs": [
    {
     "data": {
      "text/plain": [
       "0     True\n",
       "1     True\n",
       "2     True\n",
       "3    False\n",
       "4    False\n",
       "5    False\n",
       "6    False\n",
       "7     True\n",
       "8    False\n",
       "9    False\n",
       "Name: 0, dtype: bool"
      ]
     },
     "execution_count": 88,
     "metadata": {},
     "output_type": "execute_result"
    }
   ],
   "source": [
    "unigram_prediction_comparison = unigram_prediction.map(lambda x: x['prediction']) == y_test\n",
    "unigram_prediction_comparison"
   ]
  },
  {
   "cell_type": "code",
   "execution_count": 105,
   "metadata": {},
   "outputs": [
    {
     "data": {
      "text/plain": [
       "0.4"
      ]
     },
     "execution_count": 105,
     "metadata": {},
     "output_type": "execute_result"
    }
   ],
   "source": [
    "unigram_test_accuracy = unigram_prediction_comparison.sum()/10\n",
    "unigram_test_accuracy"
   ]
  },
  {
   "cell_type": "code",
   "execution_count": 106,
   "metadata": {},
   "outputs": [
    {
     "data": {
      "text/plain": [
       "0.72"
      ]
     },
     "execution_count": 106,
     "metadata": {},
     "output_type": "execute_result"
    }
   ],
   "source": [
    "unigram_train_accuracy = (x.map(predict).map(lambda x: x['prediction']) == y_train).sum()/len(x)\n",
    "unigram_train_accuracy"
   ]
  },
  {
   "cell_type": "markdown",
   "metadata": {},
   "source": [
    "#### Bigram"
   ]
  },
  {
   "cell_type": "code",
   "execution_count": 107,
   "metadata": {},
   "outputs": [
    {
     "data": {
      "text/plain": [
       "0     True\n",
       "1    False\n",
       "2    False\n",
       "3    False\n",
       "4    False\n",
       "5     True\n",
       "6     True\n",
       "7    False\n",
       "8    False\n",
       "9    False\n",
       "Name: 0, dtype: bool"
      ]
     },
     "execution_count": 107,
     "metadata": {},
     "output_type": "execute_result"
    }
   ],
   "source": [
    "bigram_prediction_comparison_test = bigram_prediction.map(lambda x: x['prediction']) == y_test\n",
    "bigram_prediction_comparison"
   ]
  },
  {
   "cell_type": "code",
   "execution_count": 120,
   "metadata": {},
   "outputs": [
    {
     "data": {
      "text/plain": [
       "0.3"
      ]
     },
     "execution_count": 120,
     "metadata": {},
     "output_type": "execute_result"
    }
   ],
   "source": [
    "bigram_test_accuracy = bigram_prediction_comparison.sum()/10\n",
    "bigram_test_accuracy"
   ]
  },
  {
   "cell_type": "code",
   "execution_count": 119,
   "metadata": {},
   "outputs": [
    {
     "data": {
      "text/plain": [
       "0.37"
      ]
     },
     "execution_count": 119,
     "metadata": {},
     "output_type": "execute_result"
    }
   ],
   "source": [
    "bigram_train_accuracy = (x.map(lambda x: list(nltk.bigrams(x))).map(lambda x: predict(x, 'bi')).map(lambda x: x['prediction']) == y_train).sum()/len(x)\n",
    "bigram_train_accuracy"
   ]
  },
  {
   "cell_type": "code",
   "execution_count": 94,
   "metadata": {},
   "outputs": [
    {
     "data": {
      "text/plain": [
       "0     True\n",
       "1    False\n",
       "2    False\n",
       "3     True\n",
       "4    False\n",
       "5     True\n",
       "6     True\n",
       "7    False\n",
       "8    False\n",
       "9    False\n",
       "Name: 0, dtype: bool"
      ]
     },
     "execution_count": 94,
     "metadata": {},
     "output_type": "execute_result"
    }
   ],
   "source": [
    "trigram_prediction_comparison = trigram_prediction.map(lambda x: x['prediction']) == y_test\n",
    "trigram_prediction_comparison"
   ]
  },
  {
   "cell_type": "code",
   "execution_count": 96,
   "metadata": {},
   "outputs": [
    {
     "data": {
      "text/plain": [
       "0.4"
      ]
     },
     "execution_count": 96,
     "metadata": {},
     "output_type": "execute_result"
    }
   ],
   "source": [
    "trigram_prediction_comparison.sum()/10"
   ]
  },
  {
   "cell_type": "code",
   "execution_count": null,
   "metadata": {},
   "outputs": [],
   "source": [
    "bigram_train_accuracy = (x.map(lambda x: list(nltk.bigrams(x))).map(lambda x: predict(x, 'bi')).map(lambda x: x['prediction']) == y_train).sum()/len(x)\n",
    "bigram_train_accuracy"
   ]
  }
 ],
 "metadata": {
  "kernelspec": {
   "display_name": "sindhu",
   "language": "python",
   "name": "sindhu"
  },
  "language_info": {
   "codemirror_mode": {
    "name": "ipython",
    "version": 3
   },
   "file_extension": ".py",
   "mimetype": "text/x-python",
   "name": "python",
   "nbconvert_exporter": "python",
   "pygments_lexer": "ipython3",
   "version": "3.5.2"
  }
 },
 "nbformat": 4,
 "nbformat_minor": 2
}
